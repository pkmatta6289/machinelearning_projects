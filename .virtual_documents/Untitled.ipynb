import pandas as pd
import numpy as np
import matplotlib as plt 
import seaborn as sns


df = pd.read_csv('notebooks/data/StudentsPerformance.csv')
df.head()


X=
